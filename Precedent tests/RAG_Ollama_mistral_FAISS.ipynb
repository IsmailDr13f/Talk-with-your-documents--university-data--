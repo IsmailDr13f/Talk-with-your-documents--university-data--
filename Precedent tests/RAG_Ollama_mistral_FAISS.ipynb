{
 "cells": [
  {
   "cell_type": "code",
   "execution_count": 1,
   "id": "1746e234-42a5-4a65-a6a8-5cabbf6c98e7",
   "metadata": {},
   "outputs": [],
   "source": [
    "import os\n",
    "import numpy as np\n",
    "from langchain.document_loaders import TextLoader\n",
    "from langchain.document_loaders import PyPDFLoader\n",
    "from langchain.document_loaders import DirectoryLoader\n",
    "from langchain_community.document_loaders import UnstructuredPDFLoader,UnstructuredFileLoader,OnlinePDFLoader\n",
    "#from langchain_text_splitters import RecursiveCharacterTextSplitter\n",
    "from torch import cuda\n",
    "from langchain.embeddings.huggingface import HuggingFaceEmbeddings\n",
    "import faiss\n",
    "from transformers import AutoTokenizer, AutoModelForSeq2SeqLM\n",
    "from langchain.prompts import ChatPromptTemplate, PromptTemplate\n",
    "from langchain_core.output_parsers import StrOutputParser\n",
    "from langchain_community.chat_models import ChatOllama\n",
    "from langchain_core.runnables import RunnablePassthrough\n",
    "from langchain.retrievers.multi_query import MultiQueryRetriever\n",
    "from langchain_community.document_loaders import TextLoader\n",
    "from langchain_community.vectorstores import FAISS\n",
    "from langchain_text_splitters import CharacterTextSplitter"
   ]
  },
  {
   "cell_type": "code",
   "execution_count": 2,
   "id": "85c4ddec-333f-4f74-a2d1-4ce1d6a1e38a",
   "metadata": {},
   "outputs": [
    {
     "name": "stderr",
     "output_type": "stream",
     "text": [
      "C:\\Users\\drief\\AppData\\Roaming\\Python\\Python39\\site-packages\\huggingface_hub\\file_download.py:1132: FutureWarning: `resume_download` is deprecated and will be removed in version 1.0.0. Downloads always resume when possible. If you want to force a new download, use `force_download=True`.\n",
      "  warnings.warn(\n"
     ]
    }
   ],
   "source": [
    "embed_model_id = 'sentence-transformers/all-MiniLM-L6-v2'\n",
    "\n",
    "device = f'cuda:{cuda.current_device()}' if cuda.is_available() else 'cpu'\n",
    "\n",
    "embed_model = HuggingFaceEmbeddings(\n",
    "    model_name=embed_model_id,\n",
    "    model_kwargs={'device': device},\n",
    "    encode_kwargs={'device': device, 'batch_size': 96}\n",
    ")"
   ]
  },
  {
   "cell_type": "code",
   "execution_count": 3,
   "id": "45229b4b-e740-45db-b3a6-0f5216887afa",
   "metadata": {},
   "outputs": [
    {
     "name": "stderr",
     "output_type": "stream",
     "text": [
      "C:\\Users\\drief\\AppData\\Roaming\\Python\\Python39\\site-packages\\transformers\\models\\bert\\modeling_bert.py:435: UserWarning: 1Torch was not compiled with flash attention. (Triggered internally at C:\\actions-runner\\_work\\pytorch\\pytorch\\builder\\windows\\pytorch\\aten\\src\\ATen\\native\\transformers\\cuda\\sdp_utils.cpp:263.)\n",
      "  attn_output = torch.nn.functional.scaled_dot_product_attention(\n"
     ]
    },
    {
     "name": "stdout",
     "output_type": "stream",
     "text": [
      "385\n"
     ]
    }
   ],
   "source": [
    "# Define the loader for PDF and text files\n",
    "loader = DirectoryLoader('documents/', glob=\"*.txt\", loader_cls=TextLoader, loader_kwargs={'encoding': 'UTF-8'})\n",
    "# Load documents\n",
    "documents = loader.load()\n",
    "\n",
    "text_splitter = CharacterTextSplitter()\n",
    "docs = text_splitter.split_documents(documents)\n",
    "embeddings = embed_model\n",
    "db = FAISS.from_documents(docs, embeddings)\n",
    "print(db.index.ntotal)"
   ]
  },
  {
   "cell_type": "code",
   "execution_count": 4,
   "id": "83666bea-02d8-48d9-bf6c-dbff03339bc6",
   "metadata": {},
   "outputs": [],
   "source": [
    "query = \"qui est le coordinateur de la MST intelligence artificielle et sciences des données ?\"\n",
    "docs = db.similarity_search_with_score(query)"
   ]
  },
  {
   "cell_type": "code",
   "execution_count": 5,
   "id": "f85856f9-9380-4ece-86a7-7eb0f55931e2",
   "metadata": {},
   "outputs": [
    {
     "name": "stdout",
     "output_type": "stream",
     "text": [
      "(Document(page_content=\"Filière: MST : Intelligence Artificielle et Sciences de Données\\n\\nObjectif: Cette formation d'excellence offre de solides connaissances en conception de systèmes d'intelligence artificielle et mathématiques appliquées afin de couvrir l'ensemble des problématiques de traitement et d'analyse des données massives que rencontre les entreprises. Elle met l'accent sur l'articulation entre apprentissage automatique, gestion et fouille de grandes masses de données, paradigmes du Big Data, représentation des connaissances, le traitement des données et sur les méthodologies récemment développées.\\n\\nCoordinateur: Pr.EZZIYYANI MOSTAFA\\nEmail: mezziyyani@uae.ac.ma\\n\\nDébouchés: \\n\\nProgramme:\\nSemestre 1:\\n  1. THÉORIES ET SYSTÈMES DE RAISONNEMENTS INTELLIGENTS\\n  2. MATHÉMATIQUES POUR ANALYSE DE DONNÉES\\n  3. PROGRAMMATION AVANCÉE\\n  4. BASES DE DONNÉES AVANCÉES\\n  5. MACHINE LEARNING 1\\n  6. ANGLAIS ET TECHNIQUE D’EXPRESSION\\n\\nSemestre 2:\\n  1. INFRASTRUCTURE ET ARCHITECTURE DES SYSTÈMES DISTRIBUES & BIG DATA\\n  2. PLATEFORMES IOT CORE: TECHNOLOGIES, DATA ET IA\\n  3. METAHEURISTIQUES & ALGORITHMES DE RECHERCHE STOCHASTIQUE\\n  4. SMA & NLP\\n  5. DATAMING & BI\\n  6. DEVELOPPEMENT PERSONNEL ET INTELLIGENCE EMOTIONNELL\\n\\nSemestre 3:\\n  1. MULTIMEDIA MINING AND INDEXING\\n  2. MACHINE LEARNING 2 : DEEP and TRANSFERT LEARNING\\n  3. DATA SPACES & DATA\\xa0 INTEGRATION & SEMANTIC INTEROPERABILITY\\n  4. BLOCKCHAIN & SECURITE APPLICATIVE\\n  5. VIRTUALIZATION, CLOUD AND EDGE COMPUTING\\n  6. DIGITAL BUSINESS STRATEGIES\\xa0 LEADERSHIP IN THE AGE OF AI\\n\\nSemestre 4:\\n  1. Projet de fin d’étude\", metadata={'source': 'documents\\\\MST__Intelligence_Artificielle_et_Sciences_de_Données.txt'}), 0.6887447)\n"
     ]
    }
   ],
   "source": [
    "print(docs[0])#.page_content)"
   ]
  },
  {
   "cell_type": "code",
   "execution_count": null,
   "id": "a6bfe28c-eab3-48be-b23a-0244812229dd",
   "metadata": {},
   "outputs": [],
   "source": []
  },
  {
   "cell_type": "code",
   "execution_count": 6,
   "id": "d4dac6d6-6750-4d85-9e78-44bb6b4afb30",
   "metadata": {},
   "outputs": [],
   "source": [
    "# LLM from Ollama\n",
    "local_model = \"mistral\"\n",
    "llm = ChatOllama(model=local_model,language = \"fr\",model_kwargs={\"device\": \"cuda\"},temperature=0.5)"
   ]
  },
  {
   "cell_type": "code",
   "execution_count": 7,
   "id": "236642a2-2814-4ca2-b4db-90f575381098",
   "metadata": {},
   "outputs": [],
   "source": [
    "QUERY_PROMPT = PromptTemplate(\n",
    "    input_variables=[\"question\"],\n",
    "    template=\"\"\"Vous êtes un assistant académique de la faculté des sciences et techniques de tanger modèle linguistique IA. Votre tâche consiste à générer deux\n",
    "    versions différentes de la question utilisateur donnée pour récupérer les documents pertinents d'une\n",
    "    base de données vectorielle. En générant plusieurs perspectives sur la question de l'utilisateur,\n",
    "    votre objectif est d'aider l'utilisateur à surmonter certaines des limitations de la recherche par similarité basée sur la distance.\n",
    "    Utilisez les informations du deux premiers documents retournés pour formuler ces questions alternatives.\n",
    "    Fournissez ces questions alternatives séparées par des nouvelles lignes.\n",
    "    Question originale : {question}\"\"\",\n",
    ")\n"
   ]
  },
  {
   "cell_type": "code",
   "execution_count": 8,
   "id": "4b885e79-03d5-428a-9cc8-a13da545bdfb",
   "metadata": {},
   "outputs": [],
   "source": [
    "retriever = MultiQueryRetriever.from_llm(db.as_retriever(), llm,prompt=QUERY_PROMPT)\n",
    "#retriever = db.as_retriever()\n",
    "# RAG prompt\n",
    "template = \"\"\"Répondez à la question en français sur la base du contexte suivant :\n",
    "{context}\n",
    "Question : {question}\n",
    "\"\"\"\n",
    "prompt = ChatPromptTemplate.from_template(template)\n",
    "\n",
    "chain = (\n",
    "    {\"context\": retriever, \"question\": RunnablePassthrough()}\n",
    "    | prompt\n",
    "    | llm\n",
    "    | StrOutputParser()\n",
    ")\n",
    "#print(chain.invoke(\"la faculté des sciences et technques de tanger?\"))\n"
   ]
  },
  {
   "cell_type": "code",
   "execution_count": 9,
   "id": "1579f003-0de8-4d0e-83e4-0ecb994f109d",
   "metadata": {},
   "outputs": [
    {
     "name": "stdout",
     "output_type": "stream",
     "text": [
      " The provided text does not contain the exact creation date of the Faculty of Sciences and Techniques (FST) of Tangier. However, it mentions that the Institut Confucius for the teaching of Chinese language and culture was created three years ago on October 21, 2019, which gives a hint about the recent establishment of FST or related institutions. To find the exact creation date of FST, you should consult their official website or other reliable sources.\n",
      "CPU times: total: 531 ms\n",
      "Wall time: 1min 5s\n"
     ]
    }
   ],
   "source": [
    "%%time\n",
    "print(chain.invoke(\"la date de création de la faculté des sciences et technques de tanger?\"))"
   ]
  },
  {
   "cell_type": "code",
   "execution_count": 10,
   "id": "fb1091c3-63e3-42f1-b944-22c6a37b2825",
   "metadata": {},
   "outputs": [
    {
     "name": "stdout",
     "output_type": "stream",
     "text": [
      " The Faculty of Sciences and Technologies (FSTT) offers a Master's degree in Science and Technology (MST), which includes Artificial Intelligence (AI) and Data Science as specializations. However, the exact title for this specific program might not be explicitly mentioned in the provided text. You may want to check their official website or contact the Future Leaders Club for more detailed information about the MST program related to AI and Data Science.\n",
      "CPU times: total: 500 ms\n",
      "Wall time: 1min\n"
     ]
    }
   ],
   "source": [
    "%%time\n",
    "print(chain.invoke(\" MST intelligence artificielle et sciences des données ?\"))"
   ]
  },
  {
   "cell_type": "code",
   "execution_count": 11,
   "id": "e4b6bc27-85eb-4c7e-a06a-09439ea6ff8b",
   "metadata": {},
   "outputs": [
    {
     "name": "stdout",
     "output_type": "stream",
     "text": [
      " La Faculté des Sciences et Techniques (FST) de Tanger est un établissement relevant de l'Université Abdelmalek Essaâdi, fondé en 1995. Elle offre une variété de programmes académiques et de recherche dans les domaines des sciences et de l'ingénierie. La FSTT propose une panoplie de formation riches et diversifiées répondant aux divers besoins du monde socio-économique (12 filières LST, 13 filières MST, 4 filières Ingénieurs). Elle est structurée en plusieurs départements spécialisés, tels que : Génie Électrique, Génie Mécanique, Génie Informatique, Génie Chimique, Mathématiques, Physique, Sciences de la Vie, Sciences de la Terre. La FSTT se distingue par une recherche active, soutenue par 7 laboratoires, 11 équipes de recherche, et des centres comme le Centre de Développement et d’Innovation (CDI) et le Centre de Fabrication Additive (CFA). Les thématiques de recherche incluent l'agro-alimentaire, la biotechnologie, et l'environnement. La FSTT maintient des liens étroits avec le milieu socio-économique régional et international, favorisant la mobilité étudiante et la collaboration scientifique.\n",
      "CPU times: total: 609 ms\n",
      "Wall time: 2min 14s\n"
     ]
    }
   ],
   "source": [
    "%%time\n",
    "print(chain.invoke(\"la faculté des sciences et technques de tanger?\"))"
   ]
  },
  {
   "cell_type": "code",
   "execution_count": 12,
   "id": "2acf2a3f-bb23-4c69-8145-e5fc7e5c53be",
   "metadata": {},
   "outputs": [
    {
     "name": "stdout",
     "output_type": "stream",
     "text": [
      " Les documents suivants semblent être liés à l'intelligence artificielle (IA) et aux sciences des données (SD):\n",
      "\n",
      "1. Document avec le numéro 3 dans la liste, intitulé \"Ingénierie des données\". Ce document n'a pas de contenu spécifique sur la page, mais étant donné que l'ingénierie des données est une branche de l'IA et des SD, il pourrait être pertinent.\n",
      "2. Document avec le numéro 4 dans la liste, intitulé \"PFE\". Bien qu'il n'y ait pas de contenu spécifique sur la page, les PFE (projets fin d'études) sont souvent utilisés pour développer des compétences en IA et SD.\n",
      "3. Document avec le numéro 3 dans la liste, intitulé \"Formation continue\". Ce document parle des programmes de formation continue destinés aux professionnels qui souhaitent acquérir des nouvelles compétences ou approfondir leurs connaissances dans leur domaine d'activité. Les domaines couverts incluent les sciences de l'ingénierie, de l'informatique et d'autres disciplines qui peuvent être liées à l'IA et aux SD.\n",
      "4. Document avec le numéro 7 dans la liste, intitulé \"FÉLICITATIONS ! Sélection pour participation au Programme de Leadership des Jeunes Sixième Edition (YLP6)\". Ce document ne mentionne pas explicitement l'IA ou les SD, mais le programme de leadership peut inclure des sujets liés à ces domaines.\n",
      "5. Document avec le numéro 8 dans la liste, intitulé \"Mr/Me JBILOU Mohammed\". Bien qu'il n'y ait pas de contenu spécifique sur la page, Mr. JBILOU Mohammed est un membre de plusieurs commissions, dont une commission de la recherche scientifique et de cooperation, qui peut inclure des sujets liés à l'IA et aux SD.\n",
      "CPU times: total: 812 ms\n",
      "Wall time: 3min 7s\n"
     ]
    }
   ],
   "source": [
    "%%time\n",
    "print(chain.invoke(\"intelligence artificielle et sciences des données ?\"))"
   ]
  },
  {
   "cell_type": "code",
   "execution_count": 13,
   "id": "d5f1b6ed-d518-4f61-8342-6eb9ef427052",
   "metadata": {},
   "outputs": [
    {
     "name": "stdout",
     "output_type": "stream",
     "text": [
      " Les concours suivants sont actuellement ouverts à la FSTT (Faculté des Sciences et Technologies de Tanger) :\n",
      "\n",
      "1. Avis de concours pour le recrutement de deux (02) Professeurs – Assistants réservé aux fonctionnaires titulaires d’un Doctorat. Date : juin 25, 2021. Pour plus de détails, veuillez consulter [ce lien](https://fstt.ac.ma/Portail2023/avis-de-concours-pour-le-recrutement-de-deux-02-professeurs-assistants-au-profit-des-fonctionnaires-titulaires-d-un-doctorat/)\n",
      "\n",
      "2. Avis de concours de recrutement de trois (03) Maîtres de Conférences. Date : octobre 13, 2023. Pour plus de détails, veuillez consulter [ce lien](https://fstt.ac.ma/Portail2023/avis-de-concours-de-recrutement-de-trois-03-maitres-de-conferences/)\n",
      "\n",
      "Pour obtenir des informations supplémentaires, vous pouvez consulter les documents suivants :\n",
      "\n",
      "* [Avis de concours pour le recrutement de deux (02) Professeurs – Assistants réservé aux fonctionnaires titulaires d’un Doctorat](documents\\\\Avis_de_concours_pour_le_recrutement_de_deux_02_Professeurs__Assistants_réservé_aux_fonctionnaires_titulaires_dun_Doctorat.txt)\n",
      "* [Avis de concours de recrutement de trois (03) Maîtres de Conférences](documents\\\\AVIS_DE_CONCOURS_DE_RECRUTEMENT_DE_TROIS_03_MAÎTRES_DE_CONFÉRENCES.txt)\n",
      "CPU times: total: 984 ms\n",
      "Wall time: 3min 14s\n"
     ]
    }
   ],
   "source": [
    "%%time\n",
    "print(chain.invoke(\"les concours de FSTT\"))"
   ]
  },
  {
   "cell_type": "code",
   "execution_count": 14,
   "id": "317b0bd4-f00a-45f3-84d4-6c7edbea6d54",
   "metadata": {},
   "outputs": [
    {
     "name": "stdout",
     "output_type": "stream",
     "text": [
      " La question n'a pas été trouvée dans les documents fournis. Les documents fournis contiennent des informations sur la coopération et les partenariats, des programmes d'études, des opportunités de recherche, des compétitions, des événements et des formations, mais pas de date de création de la faculté des sciences et technologie de Tanger.\n",
      "CPU times: total: 375 ms\n",
      "Wall time: 54.5 s\n"
     ]
    }
   ],
   "source": [
    "%%time\n",
    "print(chain.invoke(\"la date de création de la faculté des sciences et technques de tanger?\"))"
   ]
  },
  {
   "cell_type": "code",
   "execution_count": 15,
   "id": "b08e0c46-3377-425b-9be9-82b8a47cf75c",
   "metadata": {},
   "outputs": [
    {
     "name": "stdout",
     "output_type": "stream",
     "text": [
      " Monsieur Diani ne semble pas être mentionné dans les documents que vous avez fournis. Il pourrait être lié à un document manquant ou non disponible dans la liste de documents que vous m'avez transmise. Vérifiez-vous s'il existe un autre document qui pourrait vous aider à répondre à votre question.\n",
      "CPU times: total: 250 ms\n",
      "Wall time: 1min 10s\n"
     ]
    }
   ],
   "source": [
    "%%time\n",
    "print(chain.invoke(\"C'est qui monsieur DIANI ?\"))"
   ]
  },
  {
   "cell_type": "code",
   "execution_count": 16,
   "id": "09625ff6-9319-4918-89b2-1842462cc974",
   "metadata": {},
   "outputs": [
    {
     "name": "stdout",
     "output_type": "stream",
     "text": [
      " Based on the provided data, there is no information about a person named \"DIANI Mustafa\" in the list of documents. The roles or positions mentioned are related to academic departments or announcements, not individual people.\n",
      "CPU times: total: 297 ms\n",
      "Wall time: 43.4 s\n"
     ]
    }
   ],
   "source": [
    "%%time\n",
    "print(chain.invoke(\"C'est qui monsieur DIANI mustafa ?\"))"
   ]
  },
  {
   "cell_type": "code",
   "execution_count": 17,
   "id": "81a03b63-f2b9-487f-82b1-ed9e2e531c3a",
   "metadata": {},
   "outputs": [
    {
     "name": "stdout",
     "output_type": "stream",
     "text": [
      " Il n'y a pas de référence à un Monsieur DIANI dans les documents fournis.\n",
      "CPU times: total: 250 ms\n",
      "Wall time: 41.5 s\n"
     ]
    }
   ],
   "source": [
    "%%time\n",
    "print(chain.invoke(\"C'est qui monsieur DIANI ?\"))"
   ]
  },
  {
   "cell_type": "code",
   "execution_count": 18,
   "id": "e85a9761-30cc-48e4-9995-5ed2f5960111",
   "metadata": {},
   "outputs": [
    {
     "name": "stdout",
     "output_type": "stream",
     "text": [
      " Il n'y a pas de référence à un \"monsieur DIANI Mustafa\" dans les documents fournis. Ainsi, il est impossible de déterminer l'identité de cette personne.\n",
      "CPU times: total: 688 ms\n",
      "Wall time: 55.5 s\n"
     ]
    }
   ],
   "source": [
    "%%time\n",
    "print(chain.invoke(\"C'est qui monsieur DIANI mustafa ?\"))"
   ]
  },
  {
   "cell_type": "code",
   "execution_count": 19,
   "id": "eb0975ef-317b-4faa-a61a-3bdca689cde5",
   "metadata": {},
   "outputs": [
    {
     "name": "stdout",
     "output_type": "stream",
     "text": [
      " La réponse à cette question est \"Rabat\". Rabat est la capitale du Royaume du Maroc. Les documents fournis ne fournissent pas d'informations sur la capitale, mais ils traitent tous des projets et événements liés au pays.\n",
      "CPU times: total: 406 ms\n",
      "Wall time: 46.2 s\n"
     ]
    }
   ],
   "source": [
    "%%time\n",
    "print(chain.invoke(\"Le capitale de Maroc?\"))"
   ]
  },
  {
   "cell_type": "code",
   "execution_count": 21,
   "id": "9e2577f7-4a28-4e69-bdfb-527aa057f5af",
   "metadata": {},
   "outputs": [
    {
     "name": "stderr",
     "output_type": "stream",
     "text": [
      "\n",
      "KeyboardInterrupt\n",
      "\n"
     ]
    }
   ],
   "source": [
    "%%time\n",
    "print(chain.invoke(\"Bonsoir\"))"
   ]
  }
 ],
 "metadata": {
  "kernelspec": {
   "display_name": "Python 3 (ipykernel)",
   "language": "python",
   "name": "python3"
  },
  "language_info": {
   "codemirror_mode": {
    "name": "ipython",
    "version": 3
   },
   "file_extension": ".py",
   "mimetype": "text/x-python",
   "name": "python",
   "nbconvert_exporter": "python",
   "pygments_lexer": "ipython3",
   "version": "3.9.19"
  }
 },
 "nbformat": 4,
 "nbformat_minor": 5
}
