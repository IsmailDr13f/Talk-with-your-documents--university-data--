{
 "cells": [
  {
   "cell_type": "code",
   "execution_count": 1,
   "id": "1be4f896-8047-4931-afa5-3c617d3f70e4",
   "metadata": {},
   "outputs": [],
   "source": [
    "#upload data:\n",
    "import pandas as pd\n",
    "\n",
    "# Load the CSV file\n",
    "data = pd.read_csv('data_QA.csv')\n",
    "\n",
    "# Assuming the CSV has two columns: 'question' and 'answer'\n",
    "questions = data['question'].tolist()\n",
    "answers = data['text'].tolist()\n"
   ]
  },
  {
   "cell_type": "code",
   "execution_count": 2,
   "id": "08c231e3-d730-40ab-a152-28402903cdd1",
   "metadata": {},
   "outputs": [
    {
     "name": "stderr",
     "output_type": "stream",
     "text": [
      "C:\\Users\\drief\\AppData\\Roaming\\Python\\Python39\\site-packages\\sentence_transformers\\cross_encoder\\CrossEncoder.py:11: TqdmExperimentalWarning: Using `tqdm.autonotebook.tqdm` in notebook mode. Use `tqdm.tqdm` instead to force console mode (e.g. in jupyter console)\n",
      "  from tqdm.autonotebook import tqdm, trange\n",
      "C:\\Users\\drief\\AppData\\Roaming\\Python\\Python39\\site-packages\\huggingface_hub\\file_download.py:1132: FutureWarning: `resume_download` is deprecated and will be removed in version 1.0.0. Downloads always resume when possible. If you want to force a new download, use `force_download=True`.\n",
      "  warnings.warn(\n"
     ]
    }
   ],
   "source": [
    "from langchain.embeddings.huggingface import HuggingFaceEmbeddings\n",
    "from torch import cuda\n",
    "\n",
    "embed_model_id = 'sentence-transformers/all-MiniLM-L6-v2'\n",
    "\n",
    "device = f'cuda:{cuda.current_device()}' if cuda.is_available() else 'cpu'\n",
    "\n",
    "embed_model = HuggingFaceEmbeddings(\n",
    "    model_name=embed_model_id,\n",
    "    model_kwargs={'device': device},\n",
    "    encode_kwargs={'device': device, 'batch_size': 96}\n",
    ")"
   ]
  },
  {
   "cell_type": "code",
   "execution_count": 3,
   "id": "eca60da2-439a-41c4-b85b-6e2b1855684b",
   "metadata": {},
   "outputs": [],
   "source": [
    "from langchain.docstore.document import Document\n",
    "\n",
    "docs = [Document(page_content=answer, metadata={\"question\": question}) for question, answer in zip(questions, answers)]\n"
   ]
  },
  {
   "cell_type": "code",
   "execution_count": 4,
   "id": "f6918ba9-0116-4085-81bd-ddcf4ca65298",
   "metadata": {},
   "outputs": [
    {
     "name": "stderr",
     "output_type": "stream",
     "text": [
      "C:\\Users\\drief\\AppData\\Roaming\\Python\\Python39\\site-packages\\transformers\\models\\bert\\modeling_bert.py:435: UserWarning: 1Torch was not compiled with flash attention. (Triggered internally at C:\\actions-runner\\_work\\pytorch\\pytorch\\builder\\windows\\pytorch\\aten\\src\\ATen\\native\\transformers\\cuda\\sdp_utils.cpp:263.)\n",
      "  attn_output = torch.nn.functional.scaled_dot_product_attention(\n"
     ]
    }
   ],
   "source": [
    "from langchain_community.vectorstores import FAISS\n",
    "# Créez l'index FAISS\n",
    "db = FAISS.from_documents(docs, embed_model)"
   ]
  },
  {
   "cell_type": "code",
   "execution_count": 26,
   "id": "586e4305-c554-4dff-bb09-ade6b6a536d8",
   "metadata": {},
   "outputs": [
    {
     "name": "stdout",
     "output_type": "stream",
     "text": [
      "<class 'float'>\n"
     ]
    }
   ],
   "source": [
    "query = 'la faculté des sciences et techniques de tanger'#\"Quelle est la dates des examens par local?\"\n",
    "hhh = db.similarity_search_with_score(query)\n",
    "print(type(float(hhh[0][-1])))"
   ]
  },
  {
   "cell_type": "code",
   "execution_count": 13,
   "id": "b6023cad-4cb0-4f2b-87e8-fe4042faeac5",
   "metadata": {},
   "outputs": [],
   "source": [
    "def generate_answer(quest,model_name=\"mistral\"):\n",
    "    from langchain_community.chat_models import ChatOllama\n",
    "    from langchain_core.output_parsers import StrOutputParser\n",
    "    from langchain_core.prompts import ChatPromptTemplate\n",
    "\n",
    "    similar_doc=db.similarity_search_with_score(quest)\n",
    "    get_info=similar_doc[0][0].page_content\n",
    "    llm = ChatOllama(model=model_name)\n",
    "    prompt = ChatPromptTemplate.from_template(\"Résumer en français le text donné sous forme d'une paragraphe {topic}\")\n",
    "    chain = prompt | llm | StrOutputParser()\n",
    "    return chain.invoke({\"topic\":get_info})"
   ]
  },
  {
   "cell_type": "code",
   "execution_count": 8,
   "id": "153e1121-7e23-4a8c-95b8-0219e218fdfb",
   "metadata": {},
   "outputs": [
    {
     "name": "stdout",
     "output_type": "stream",
     "text": [
      " La Faculté des Sciences et Techniques de Tanger (FSTT) dépend de l'Université Abdelmalek Essaâdi et a été fondée en 1995. Elle fait partie des établissements d'enseignement supérieur réguliers et est chargée de la formation initiale dans les domaines scientifiques et techniques, de la formation continue ainsi que de la recherche et du développement dans les domaines des sciences et technologies.\n",
      "CPU times: total: 266 ms\n",
      "Wall time: 4min 30s\n"
     ]
    }
   ],
   "source": [
    "%%time\n",
    "question='la faculté des sciences et techniques de tanger'\n",
    "print(generate_answer(question))"
   ]
  },
  {
   "cell_type": "code",
   "execution_count": 27,
   "id": "7786aa2b-f8ad-4a90-9624-5a09c6d7dc54",
   "metadata": {},
   "outputs": [],
   "source": [
    "def generate_answer(quest, model_name=\"mistral\"):\n",
    "    from langchain_community.chat_models import ChatOllama\n",
    "    from langchain_core.output_parsers import StrOutputParser\n",
    "    from langchain_core.prompts import ChatPromptTemplate\n",
    "    import torch\n",
    "    # Liste de salutations courantes\n",
    "    salutations = [\"bonjour\", \"bonsoir\", \"salut\", \"coucou\", \"hello\", \"hi\"]\n",
    "    device = torch.device(\"cuda\" if torch.cuda.is_available() else \"cpu\")\n",
    "    #print(device)\n",
    "    # Vérifier si la requête est une salutation\n",
    "    if quest.lower().strip() in salutations:\n",
    "        return \"salut ! Comment puis-je vous aider aujourd'hui ?\"\n",
    "\n",
    "    # Rechercher des documents similaires\n",
    "    similar_doc = db.similarity_search_with_score(quest)\n",
    "    \n",
    "    # Si aucun document similaire n'est trouvé, utiliser un prompt générique\n",
    "    if similar_doc[0][-1] >=0.85:\n",
    "        llm = ChatOllama(model=model_name, device=device)\n",
    "        generic_prompt = ChatPromptTemplate.from_template(\"Répondre de manière appropriée à la question suivante : {question}\")\n",
    "        chain = generic_prompt | llm | StrOutputParser()\n",
    "        return chain.invoke({\"question\": quest})\n",
    "    \n",
    "    # Si des documents similaires sont trouvés, résumer le contenu du document\n",
    "    get_info = similar_doc[0][0].page_content\n",
    "    llm = ChatOllama(model=model_name, device=device)\n",
    "    specific_prompt = ChatPromptTemplate.from_template(\"Résumer en français le texte donné sous forme d'un paragraphe {topic}\")\n",
    "    chain = specific_prompt | llm | StrOutputParser()\n",
    "    return chain.invoke({\"topic\": get_info})\n"
   ]
  },
  {
   "cell_type": "code",
   "execution_count": 12,
   "id": "0fbfe8bf-5d74-4453-88bc-c2e712dff8f6",
   "metadata": {},
   "outputs": [
    {
     "name": "stdout",
     "output_type": "stream",
     "text": [
      "cuda\n",
      " La Faculté des Sciences et Techniques de Tanger (FSTT), liée à l'Université Abdelmalek Essaâdi, a été fondée en 1995. Elle appartient aux établissements d'enseignement supérieur réguliers et ses missions comprennent la formation initiale dans les domaines scientifiques et techniques, ainsi que la formation continue, la recherche et le développement dans les domaines des sciences et technologies.\n",
      "CPU times: total: 234 ms\n",
      "Wall time: 4min\n"
     ]
    }
   ],
   "source": [
    "#%%time\n",
    "#question='la faculté des sciences et techniques de tanger'\n",
    "#print(generate_answer(question))"
   ]
  },
  {
   "cell_type": "code",
   "execution_count": 31,
   "id": "c91ae2e5-f154-4314-ae3d-38c413158cd1",
   "metadata": {},
   "outputs": [
    {
     "name": "stdout",
     "output_type": "stream",
     "text": [
      "cuda\n",
      " La Faculté des Sciences et Techniques de Tanger (FSTT), rattachée à l'Université Abdelmalek Essaâdi, a été fondée en 1995. Elle fait partie des établissements supérieurs d'accès régulier et sa mission est la formation initiale dans les domaines scientifiques et techniques, ainsi que la formation continue et la recherche et le développement dans les domaines des sciences et techniques.\n",
      "CPU times: total: 375 ms\n",
      "Wall time: 3min 51s\n"
     ]
    }
   ],
   "source": [
    "%%time\n",
    "response = generate_answer(\"Information sur la faculté des sciences et technique de Tanger\")\n",
    "print(response)  \n"
   ]
  },
  {
   "cell_type": "code",
   "execution_count": 34,
   "id": "c60749b2-e472-4001-9176-3d4776e4d1fe",
   "metadata": {},
   "outputs": [
    {
     "name": "stdout",
     "output_type": "stream",
     "text": [
      " * Serving Flask app '__main__'\n",
      " * Debug mode: off\n"
     ]
    },
    {
     "name": "stderr",
     "output_type": "stream",
     "text": [
      "WARNING: This is a development server. Do not use it in a production deployment. Use a production WSGI server instead.\n",
      " * Running on all addresses (0.0.0.0)\n",
      " * Running on http://127.0.0.1:5000\n",
      " * Running on http://192.168.69.128:5000\n",
      "Press CTRL+C to quit\n",
      "127.0.0.1 - - [05/Jun/2024 01:59:51] \"POST /process HTTP/1.1\" 200 -\n"
     ]
    },
    {
     "name": "stdout",
     "output_type": "stream",
     "text": [
      "mistral\n",
      "cuda\n"
     ]
    },
    {
     "name": "stderr",
     "output_type": "stream",
     "text": [
      "127.0.0.1 - - [05/Jun/2024 02:00:16] \"POST /process HTTP/1.1\" 200 -\n"
     ]
    },
    {
     "name": "stdout",
     "output_type": "stream",
     "text": [
      "gemma\n",
      "cuda\n"
     ]
    }
   ],
   "source": [
    "from flask import Flask, request, jsonify\n",
    "\n",
    "app = Flask(__name__)\n",
    "\n",
    "@app.route('/process', methods=['POST'])\n",
    "def process():\n",
    "    data = request.get_json()\n",
    "    query = data.get('query', '')\n",
    "    modell = data.get('model_name','')\n",
    "    print(modell)\n",
    "    result = generate_answer(query,modell)\n",
    "    return jsonify({'result': result})\n",
    "\n",
    "# Run the Flask server\n",
    "if __name__ == '__main__':\n",
    "    app.run(host='0.0.0.0', port=5000)\n"
   ]
  },
  {
   "cell_type": "code",
   "execution_count": null,
   "id": "3278e796-b07a-4e86-8ac4-ca282aa1381b",
   "metadata": {},
   "outputs": [],
   "source": []
  }
 ],
 "metadata": {
  "kernelspec": {
   "display_name": "Python 3 (ipykernel)",
   "language": "python",
   "name": "python3"
  },
  "language_info": {
   "codemirror_mode": {
    "name": "ipython",
    "version": 3
   },
   "file_extension": ".py",
   "mimetype": "text/x-python",
   "name": "python",
   "nbconvert_exporter": "python",
   "pygments_lexer": "ipython3",
   "version": "3.9.19"
  }
 },
 "nbformat": 4,
 "nbformat_minor": 5
}
